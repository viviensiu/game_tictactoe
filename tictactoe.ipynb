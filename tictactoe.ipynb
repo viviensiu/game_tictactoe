{
 "cells": [
  {
   "cell_type": "markdown",
   "id": "5059c5be-2295-44f9-82aa-c1c648364b57",
   "metadata": {},
   "source": [
    "## Goal\n",
    "Tic Tac Toe class\n",
    "\n",
    "Methods:\n",
    "- Load a new game\n",
    "- 2 players X and O\n",
    "- Randomise player to start\n",
    "- Display board game\n",
    "- Accept and validate moves\n",
    "- Check if any player has won"
   ]
  },
  {
   "cell_type": "code",
   "execution_count": 1,
   "id": "80cc2589-f010-47f5-99ac-d19c90abafee",
   "metadata": {},
   "outputs": [],
   "source": [
    "from random import randint \n",
    "import numpy as np"
   ]
  },
  {
   "cell_type": "code",
   "execution_count": 2,
   "id": "1d7c068d-d288-4bce-896c-2b57a78df826",
   "metadata": {},
   "outputs": [],
   "source": [
    "class TwoPlayerGame:\n",
    "    def __init__(self):\n",
    "        self.winner = None\n",
    "        self.player1 = None\n",
    "        self.player2 = None\n",
    "        self.turn = None\n",
    "\n",
    "    def welcome(self):\n",
    "        '''\n",
    "        prints a generic welcome message based on class name\n",
    "        '''\n",
    "        print(f\"Welcome to the game of {self.__class__.__name__}!!\")"
   ]
  },
  {
   "cell_type": "code",
   "execution_count": 3,
   "id": "b0075258-186d-47a1-9248-97fb6f9f3c98",
   "metadata": {},
   "outputs": [],
   "source": [
    "class Tictactoe(TwoPlayerGame):\n",
    "    '''\n",
    "    inherits from superclass TwoPlayerGame\n",
    "    '''\n",
    "    def __init__(self):\n",
    "        '''\n",
    "        initialise a new 2-player game of TicTacToe\n",
    "        '''\n",
    "        super().__init__()\n",
    "        self.moves = ['O', 'X']\n",
    "        # initialise empty board\n",
    "        self.board = { str(i+1):str(i+1) for i in np.arange(9) }\n",
    "\n",
    "    def random_start(self):\n",
    "        '''\n",
    "        randomly choose a move to start\n",
    "        '''\n",
    "        result = randint(0,1)\n",
    "        if result == 0:\n",
    "            self.player1 = self.moves[0]\n",
    "            self.player2 = self.moves[1]\n",
    "        else:\n",
    "            self.player1 = self.moves[1]\n",
    "            self.player2 = self.moves[0]\n",
    "        self.turn = self.player1\n",
    "\n",
    "    def current_player(self):\n",
    "        '''\n",
    "        Returns the current player for current turn\n",
    "        '''\n",
    "        if self.player1 == self.turn:\n",
    "            return \"Player 1\"\n",
    "        else:\n",
    "            return \"Player 2\"\n",
    "            \n",
    "    def update_turn(self):\n",
    "        '''\n",
    "        update turn to next player\n",
    "        '''\n",
    "        if self.turn == 'X':\n",
    "            self.turn = 'O'\n",
    "        else:\n",
    "            self.turn = 'X'\n",
    "        \n",
    "    def update_board(self, pos, move):\n",
    "        '''\n",
    "        update board with move\n",
    "        '''\n",
    "        self.board[pos] = move\n",
    "\n",
    "    def validate_move(self, pos):\n",
    "        '''\n",
    "        validate move: (1) is a valid board position, return False if out of range\n",
    "        (2) for a particular board position, \n",
    "        if the position is already filled, return False (invalid move), else True\n",
    "        '''\n",
    "        if pos.isdigit() and int(pos) in range(1,10):     \n",
    "            if self.board[pos] not in self.moves:\n",
    "                return True\n",
    "        else:\n",
    "            return False\n",
    "\n",
    "    def show_board(self):\n",
    "        '''\n",
    "        display board\n",
    "        '''\n",
    "        print(\"-\"*7)\n",
    "        print(f\"|{self.board['1']}|{self.board['2']}|{self.board['3']}|\")\n",
    "        print(\"-\"*7)\n",
    "        print(f\"|{self.board['4']}|{self.board['5']}|{self.board['6']}|\")\n",
    "        print(\"-\"*7)\n",
    "        print(f\"|{self.board['7']}|{self.board['8']}|{self.board['9']}|\")\n",
    "        print(\"-\"*7)\n",
    "\n",
    "    def check_winner(self):\n",
    "        '''\n",
    "        checks if there is a winner. Ends the game if\n",
    "        (1) there is a winner, or\n",
    "        (2) all moves are exhausted and there is no winner\n",
    "        '''\n",
    "        # check horizontal\n",
    "        if (self.board['1'] == self.board['2'] == self.board['3']) and (self.board['1'] in self.moves):\n",
    "            self.winner = self.board['1']\n",
    "        if (self.board['4'] == self.board['5'] == self.board['6']) and (self.board['4'] in self.moves):\n",
    "            self.winner = self.board['4']\n",
    "        if (self.board['7'] == self.board['8'] == self.board['9']) and (self.board['7'] in self.moves):\n",
    "            self.winner = self.board['7']\n",
    "        \n",
    "        # check vertical\n",
    "        if (self.board['1'] == self.board['4'] == self.board['7']) and (self.board['1'] in self.moves):\n",
    "            self.winner = self.board['1']\n",
    "        if (self.board['2'] == self.board['5'] == self.board['8']) and (self.board['2'] in self.moves):\n",
    "            self.winner = self.board['2']\n",
    "        if (self.board['3'] == self.board['6'] == self.board['9']) and (self.board['3'] in self.moves):\n",
    "            self.winner = self.board['3']\n",
    "\n",
    "        # check diagonal\n",
    "        if (self.board['1'] == self.board['5'] == self.board['9']) and (self.board['1'] in self.moves):\n",
    "            self.winner = self.board['1']\n",
    "\n",
    "        # check off-diagonal\n",
    "        if (self.board['3'] == self.board['5'] == self.board['7']) and (self.board['3'] in self.moves):\n",
    "            self.winner = self.board['3']\n",
    "\n",
    "        # check if board is full and set winner as 'T' for a tie\n",
    "        if sorted(list(set(self.board.values()))) == self.moves:\n",
    "            self.winner = 'T'\n",
    "        \n",
    "        # check if we have a winner\n",
    "        if self.winner:\n",
    "            return True\n",
    "        else:\n",
    "            return False\n",
    "\n",
    "    def get_winner(self):\n",
    "        '''\n",
    "        prints the winner/no winner message\n",
    "        '''\n",
    "        s = \"The winner is \"\n",
    "        if self.winner == self.player1:\n",
    "            return s+\"Player 1\" \n",
    "        elif self.winner == self.player2:\n",
    "            return s+\"Player 2\" \n",
    "        else:\n",
    "            return \"There is no winner.\"\n"
   ]
  },
  {
   "cell_type": "code",
   "execution_count": 4,
   "id": "c9cb83b9-b964-4b61-9b60-0ef25d4bbb72",
   "metadata": {},
   "outputs": [],
   "source": [
    "def play_game():\n",
    "    '''\n",
    "    Executes a game of Tic Tac Toe.\n",
    "    Prints a welcome message and initialise a random player 1.\n",
    "    Runs the game until we have a winner or the game ends without a winner.\n",
    "    '''\n",
    "    game = Tictactoe()\n",
    "    game.welcome()    \n",
    "    game.random_start()\n",
    "    print(f\"Start with player 1 using {game.player1}\") \n",
    "    \n",
    "    while not game.check_winner():\n",
    "        # display past moves\n",
    "        game.show_board()\n",
    "        # get the current turn\n",
    "        move = game.turn\n",
    "        while 1:\n",
    "            pos = input(f\"{game.current_player()}'s turn. Choose your board position (pick any number displayed):\")\n",
    "            # validate current player's move\n",
    "            if game.validate_move(pos):\n",
    "                game.update_board(pos, move)\n",
    "                break\n",
    "            else:\n",
    "                print(\"Invalid position. Pick only a number shown on board.\")\n",
    "        game.update_turn()\n",
    "    \n",
    "    print(f\"Game over. {game.get_winner()}\")"
   ]
  },
  {
   "cell_type": "code",
   "execution_count": 5,
   "id": "a8465e2a-7db6-4d25-907a-c69b08eebbcf",
   "metadata": {},
   "outputs": [
    {
     "name": "stdout",
     "output_type": "stream",
     "text": [
      "Welcome to the game of Tictactoe!!\n",
      "Start with player 1 using O\n",
      "-------\n",
      "|1|2|3|\n",
      "-------\n",
      "|4|5|6|\n",
      "-------\n",
      "|7|8|9|\n",
      "-------\n"
     ]
    },
    {
     "name": "stdin",
     "output_type": "stream",
     "text": [
      "Player 1's turn. Choose your board position (pick any number displayed): 1\n"
     ]
    },
    {
     "name": "stdout",
     "output_type": "stream",
     "text": [
      "-------\n",
      "|O|2|3|\n",
      "-------\n",
      "|4|5|6|\n",
      "-------\n",
      "|7|8|9|\n",
      "-------\n"
     ]
    },
    {
     "name": "stdin",
     "output_type": "stream",
     "text": [
      "Player 2's turn. Choose your board position (pick any number displayed): 2\n"
     ]
    },
    {
     "name": "stdout",
     "output_type": "stream",
     "text": [
      "-------\n",
      "|O|X|3|\n",
      "-------\n",
      "|4|5|6|\n",
      "-------\n",
      "|7|8|9|\n",
      "-------\n"
     ]
    },
    {
     "name": "stdin",
     "output_type": "stream",
     "text": [
      "Player 1's turn. Choose your board position (pick any number displayed): 2\n"
     ]
    },
    {
     "name": "stdout",
     "output_type": "stream",
     "text": [
      "Invalid position. Pick only a number shown on board.\n"
     ]
    },
    {
     "name": "stdin",
     "output_type": "stream",
     "text": [
      "Player 1's turn. Choose your board position (pick any number displayed): 3\n"
     ]
    },
    {
     "name": "stdout",
     "output_type": "stream",
     "text": [
      "-------\n",
      "|O|X|O|\n",
      "-------\n",
      "|4|5|6|\n",
      "-------\n",
      "|7|8|9|\n",
      "-------\n"
     ]
    },
    {
     "name": "stdin",
     "output_type": "stream",
     "text": [
      "Player 2's turn. Choose your board position (pick any number displayed): 5\n"
     ]
    },
    {
     "name": "stdout",
     "output_type": "stream",
     "text": [
      "-------\n",
      "|O|X|O|\n",
      "-------\n",
      "|4|X|6|\n",
      "-------\n",
      "|7|8|9|\n",
      "-------\n"
     ]
    },
    {
     "name": "stdin",
     "output_type": "stream",
     "text": [
      "Player 1's turn. Choose your board position (pick any number displayed): 8\n"
     ]
    },
    {
     "name": "stdout",
     "output_type": "stream",
     "text": [
      "-------\n",
      "|O|X|O|\n",
      "-------\n",
      "|4|X|6|\n",
      "-------\n",
      "|7|O|9|\n",
      "-------\n"
     ]
    },
    {
     "name": "stdin",
     "output_type": "stream",
     "text": [
      "Player 2's turn. Choose your board position (pick any number displayed): 6\n"
     ]
    },
    {
     "name": "stdout",
     "output_type": "stream",
     "text": [
      "-------\n",
      "|O|X|O|\n",
      "-------\n",
      "|4|X|X|\n",
      "-------\n",
      "|7|O|9|\n",
      "-------\n"
     ]
    },
    {
     "name": "stdin",
     "output_type": "stream",
     "text": [
      "Player 1's turn. Choose your board position (pick any number displayed): 4\n"
     ]
    },
    {
     "name": "stdout",
     "output_type": "stream",
     "text": [
      "-------\n",
      "|O|X|O|\n",
      "-------\n",
      "|O|X|X|\n",
      "-------\n",
      "|7|O|9|\n",
      "-------\n"
     ]
    },
    {
     "name": "stdin",
     "output_type": "stream",
     "text": [
      "Player 2's turn. Choose your board position (pick any number displayed): 7\n"
     ]
    },
    {
     "name": "stdout",
     "output_type": "stream",
     "text": [
      "-------\n",
      "|O|X|O|\n",
      "-------\n",
      "|O|X|X|\n",
      "-------\n",
      "|X|O|9|\n",
      "-------\n"
     ]
    },
    {
     "name": "stdin",
     "output_type": "stream",
     "text": [
      "Player 1's turn. Choose your board position (pick any number displayed): 3\n"
     ]
    },
    {
     "name": "stdout",
     "output_type": "stream",
     "text": [
      "Invalid position. Pick only a number shown on board.\n"
     ]
    },
    {
     "name": "stdin",
     "output_type": "stream",
     "text": [
      "Player 1's turn. Choose your board position (pick any number displayed): 8\n"
     ]
    },
    {
     "name": "stdout",
     "output_type": "stream",
     "text": [
      "Invalid position. Pick only a number shown on board.\n"
     ]
    },
    {
     "name": "stdin",
     "output_type": "stream",
     "text": [
      "Player 1's turn. Choose your board position (pick any number displayed): 9\n"
     ]
    },
    {
     "name": "stdout",
     "output_type": "stream",
     "text": [
      "Game over. There is no winner.\n"
     ]
    },
    {
     "name": "stdin",
     "output_type": "stream",
     "text": [
      "One more game??? Enter y/Y to play:  m\n"
     ]
    },
    {
     "name": "stdout",
     "output_type": "stream",
     "text": [
      "Thank you for playing!\n"
     ]
    }
   ],
   "source": [
    "# main function when python script is executed\n",
    "if __name__ == \"__main__\":\n",
    "    play = 'Y'\n",
    "    while play.upper() == 'Y':\n",
    "        play_game()\n",
    "        play = input(\"One more game??? Enter y/Y to play: \")\n",
    "    print(\"Thank you for playing!\")"
   ]
  }
 ],
 "metadata": {
  "kernelspec": {
   "display_name": "Python 3 (ipykernel)",
   "language": "python",
   "name": "python3"
  },
  "language_info": {
   "codemirror_mode": {
    "name": "ipython",
    "version": 3
   },
   "file_extension": ".py",
   "mimetype": "text/x-python",
   "name": "python",
   "nbconvert_exporter": "python",
   "pygments_lexer": "ipython3",
   "version": "3.11.5"
  }
 },
 "nbformat": 4,
 "nbformat_minor": 5
}
